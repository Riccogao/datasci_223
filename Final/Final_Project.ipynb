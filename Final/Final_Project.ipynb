{
  "nbformat": 4,
  "nbformat_minor": 0,
  "metadata": {
    "colab": {
      "provenance": [],
      "authorship_tag": "ABX9TyPc2VU2aNnkzNxjUfBVl12s",
      "include_colab_link": true
    },
    "kernelspec": {
      "name": "python3",
      "display_name": "Python 3"
    },
    "language_info": {
      "name": "python"
    }
  },
  "cells": [
    {
      "cell_type": "markdown",
      "metadata": {
        "id": "view-in-github",
        "colab_type": "text"
      },
      "source": [
        "<a href=\"https://colab.research.google.com/github/Riccogao/datasci_223/blob/main/Final_Project.ipynb\" target=\"_parent\"><img src=\"https://colab.research.google.com/assets/colab-badge.svg\" alt=\"Open In Colab\"/></a>"
      ]
    },
    {
      "cell_type": "code",
      "execution_count": 5,
      "metadata": {
        "colab": {
          "base_uri": "https://localhost:8080/"
        },
        "id": "mGTjtNPUZoEB",
        "outputId": "193d4a90-1fd0-43ee-ca00-a4817fac616d"
      },
      "outputs": [
        {
          "output_type": "stream",
          "name": "stdout",
          "text": [
            "Drive already mounted at /content/drive; to attempt to forcibly remount, call drive.mount(\"/content/drive\", force_remount=True).\n"
          ]
        }
      ],
      "source": [
        "from google.colab import drive\n",
        "drive.mount('/content/drive')\n"
      ]
    },
    {
      "cell_type": "code",
      "source": [
        "import pandas as pd\n",
        "\n",
        "# load data\n",
        "df = pd.read_excel('/content/drive/My Drive/data1.xlsx')\n",
        "\n",
        "# check basic structure of the dataset\n",
        "print(df.info())\n",
        "print(df.shape)\n",
        "print(df.columns)\n"
      ],
      "metadata": {
        "colab": {
          "base_uri": "https://localhost:8080/"
        },
        "id": "q-9UurSoaGS6",
        "outputId": "6717e793-2b71-496d-aaa9-8acad71b694d"
      },
      "execution_count": 6,
      "outputs": [
        {
          "output_type": "stream",
          "name": "stdout",
          "text": [
            "<class 'pandas.core.frame.DataFrame'>\n",
            "RangeIndex: 872 entries, 0 to 871\n",
            "Data columns (total 60 columns):\n",
            " #   Column              Non-Null Count  Dtype  \n",
            "---  ------              --------------  -----  \n",
            " 0   idi                 872 non-null    int64  \n",
            " 1   ID                  872 non-null    int64  \n",
            " 2   first_author        872 non-null    object \n",
            " 3   group               872 non-null    object \n",
            " 4   data_start          872 non-null    int64  \n",
            " 5   data_finish         872 non-null    object \n",
            " 6   country             872 non-null    object \n",
            " 7   country_additional  70 non-null     object \n",
            " 8   site_general        872 non-null    object \n",
            " 9   site_specific       872 non-null    object \n",
            " 10  diagnosis_details   117 non-null    object \n",
            " 11  females             872 non-null    object \n",
            " 12  age                 872 non-null    object \n",
            " 13  diagnosis           872 non-null    object \n",
            " 14  first_treatment     465 non-null    object \n",
            " 15  TI                  872 non-null    int64  \n",
            " 16  tN                  465 non-null    float64\n",
            " 17  tmean               136 non-null    float64\n",
            " 18  tSD                 50 non-null     float64\n",
            " 19  tmedian             395 non-null    float64\n",
            " 20  tQ1                 185 non-null    float64\n",
            " 21  tQ3                 203 non-null    float64\n",
            " 22  tIQR                13 non-null     object \n",
            " 23  tmin                86 non-null     float64\n",
            " 24  tmax                86 non-null     float64\n",
            " 25  tmeas               465 non-null    object \n",
            " 26  tmm                 465 non-null    float64\n",
            " 27  DI                  872 non-null    int64  \n",
            " 28  dN                  301 non-null    float64\n",
            " 29  dmean               68 non-null     float64\n",
            " 30  dSD                 56 non-null     float64\n",
            " 31  dmedian             286 non-null    float64\n",
            " 32  dQ1                 208 non-null    float64\n",
            " 33  dQ3                 225 non-null    float64\n",
            " 34  dIQR                5 non-null      float64\n",
            " 35  dmin                51 non-null     float64\n",
            " 36  dmax                51 non-null     float64\n",
            " 37  dmeas               301 non-null    object \n",
            " 38  dmm                 301 non-null    float64\n",
            " 39  PI                  872 non-null    int64  \n",
            " 40  pN                  369 non-null    float64\n",
            " 41  pmean               127 non-null    float64\n",
            " 42  pSD                 64 non-null     float64\n",
            " 43  pmedian             318 non-null    float64\n",
            " 44  pQ1                 190 non-null    float64\n",
            " 45  pQ3                 198 non-null    float64\n",
            " 46  pIQR                22 non-null     float64\n",
            " 47  pmin                77 non-null     float64\n",
            " 48  pmax                78 non-null     float64\n",
            " 49  pmeas               369 non-null    object \n",
            " 50  pmm                 369 non-null    float64\n",
            " 51  GNI                 872 non-null    object \n",
            " 52  GNIG                872 non-null    object \n",
            " 53  HDI                 849 non-null    float64\n",
            " 54  ICP_overall         674 non-null    float64\n",
            " 55  ICP_pp              674 non-null    float64\n",
            " 56  ICP_cancerplan      674 non-null    float64\n",
            " 57  ICP_care            674 non-null    float64\n",
            " 58  risk_of_bias        872 non-null    object \n",
            " 59  lowquality          872 non-null    object \n",
            "dtypes: float64(34), int64(6), object(20)\n",
            "memory usage: 408.9+ KB\n",
            "None\n",
            "(872, 60)\n",
            "Index(['idi', 'ID', 'first_author', 'group', 'data_start', 'data_finish',\n",
            "       'country', 'country_additional', 'site_general', 'site_specific',\n",
            "       'diagnosis_details', 'females', 'age', 'diagnosis', 'first_treatment',\n",
            "       'TI', 'tN', 'tmean', 'tSD', 'tmedian', 'tQ1', 'tQ3', 'tIQR ', 'tmin',\n",
            "       'tmax ', 'tmeas', 'tmm', 'DI', 'dN', 'dmean', 'dSD', 'dmedian', 'dQ1',\n",
            "       'dQ3', 'dIQR', 'dmin', 'dmax ', 'dmeas', 'dmm', 'PI', 'pN', 'pmean',\n",
            "       'pSD', 'pmedian', 'pQ1', 'pQ3', 'pIQR', 'pmin', 'pmax ', 'pmeas', 'pmm',\n",
            "       'GNI', 'GNIG', 'HDI', 'ICP_overall', 'ICP_pp', 'ICP_cancerplan',\n",
            "       'ICP_care', 'risk_of_bias', 'lowquality'],\n",
            "      dtype='object')\n"
          ]
        }
      ]
    },
    {
      "cell_type": "markdown",
      "source": [
        "The data source is from a systematic review and meta-analysis study named \"The patient, diagnostic, and treatment intervals in adult patients with cancer from high and lower-income countries: a systematic review and meta-analysis\" which can be downloaded from the Open Science Framework: DOI 10.17605/OSF.IO/REY9C (https://osf.io/rey9c/).\n",
        "\n",
        "Overview of the research question and design:\n",
        "\n",
        "1.   The main research question in this paper\n",
        "is trying to understand the health disparities among adult patients with different types of cancer in high-income and lower-income countries, with a focus on comparing the duration of the patient, diagnostic, and treatment intervals.\n",
        "2.   The following data analysis is play around with the filtered dataset containing only breast cancer data from the original dataset. As breast cancer is one of the mose common cancers and a leading cause of cancer-related deaths among women worldwide. Investigating the intervals of patient, diagnostic, and treatment between high-income and lower-income countries can potentially identify health disparities, address delays, and improve breast cancer outcomes globally\n",
        "\n",
        "\n",
        "\n"
      ],
      "metadata": {
        "id": "qsVhRrSYU-8t"
      }
    },
    {
      "cell_type": "code",
      "source": [
        "\n",
        "# Filter the DataFrame to keep only rows where 'site_general' equals 'breast'\n",
        "breast_df = df[(df['site_specific'].isin(['PA breast', 'breast']))]\n",
        "nonpa_breast_df = df[(df['site_specific'] == 'breast')]\n",
        "pa_breast_df = df[(df['site_specific'] == 'PA breast')]\n",
        "\n",
        "# check basic structure of the filtered dataset\n",
        "print(breast_df.info())\n",
        "print(breast_df.shape)\n",
        "print(breast_df.columns)\n"
      ],
      "metadata": {
        "colab": {
          "base_uri": "https://localhost:8080/"
        },
        "id": "MfloAV_SQCFF",
        "outputId": "6eb4888d-95a1-4788-e634-4f7ac09ab67d"
      },
      "execution_count": 7,
      "outputs": [
        {
          "output_type": "stream",
          "name": "stdout",
          "text": [
            "<class 'pandas.core.frame.DataFrame'>\n",
            "Int64Index: 184 entries, 0 to 871\n",
            "Data columns (total 60 columns):\n",
            " #   Column              Non-Null Count  Dtype  \n",
            "---  ------              --------------  -----  \n",
            " 0   idi                 184 non-null    int64  \n",
            " 1   ID                  184 non-null    int64  \n",
            " 2   first_author        184 non-null    object \n",
            " 3   group               184 non-null    object \n",
            " 4   data_start          184 non-null    int64  \n",
            " 5   data_finish         184 non-null    object \n",
            " 6   country             184 non-null    object \n",
            " 7   country_additional  6 non-null      object \n",
            " 8   site_general        184 non-null    object \n",
            " 9   site_specific       184 non-null    object \n",
            " 10  diagnosis_details   0 non-null      object \n",
            " 11  females             184 non-null    object \n",
            " 12  age                 184 non-null    object \n",
            " 13  diagnosis           184 non-null    object \n",
            " 14  first_treatment     99 non-null     object \n",
            " 15  TI                  184 non-null    int64  \n",
            " 16  tN                  99 non-null     float64\n",
            " 17  tmean               36 non-null     float64\n",
            " 18  tSD                 16 non-null     float64\n",
            " 19  tmedian             80 non-null     float64\n",
            " 20  tQ1                 40 non-null     float64\n",
            " 21  tQ3                 40 non-null     float64\n",
            " 22  tIQR                3 non-null      object \n",
            " 23  tmin                19 non-null     float64\n",
            " 24  tmax                19 non-null     float64\n",
            " 25  tmeas               99 non-null     object \n",
            " 26  tmm                 99 non-null     float64\n",
            " 27  DI                  184 non-null    int64  \n",
            " 28  dN                  56 non-null     float64\n",
            " 29  dmean               11 non-null     float64\n",
            " 30  dSD                 10 non-null     float64\n",
            " 31  dmedian             55 non-null     float64\n",
            " 32  dQ1                 36 non-null     float64\n",
            " 33  dQ3                 36 non-null     float64\n",
            " 34  dIQR                0 non-null      float64\n",
            " 35  dmin                10 non-null     float64\n",
            " 36  dmax                10 non-null     float64\n",
            " 37  dmeas               56 non-null     object \n",
            " 38  dmm                 56 non-null     float64\n",
            " 39  PI                  184 non-null    int64  \n",
            " 40  pN                  93 non-null     float64\n",
            " 41  pmean               38 non-null     float64\n",
            " 42  pSD                 17 non-null     float64\n",
            " 43  pmedian             68 non-null     float64\n",
            " 44  pQ1                 34 non-null     float64\n",
            " 45  pQ3                 34 non-null     float64\n",
            " 46  pIQR                4 non-null      float64\n",
            " 47  pmin                24 non-null     float64\n",
            " 48  pmax                25 non-null     float64\n",
            " 49  pmeas               93 non-null     object \n",
            " 50  pmm                 93 non-null     float64\n",
            " 51  GNI                 184 non-null    object \n",
            " 52  GNIG                184 non-null    object \n",
            " 53  HDI                 176 non-null    float64\n",
            " 54  ICP_overall         119 non-null    float64\n",
            " 55  ICP_pp              119 non-null    float64\n",
            " 56  ICP_cancerplan      119 non-null    float64\n",
            " 57  ICP_care            119 non-null    float64\n",
            " 58  risk_of_bias        184 non-null    object \n",
            " 59  lowquality          184 non-null    object \n",
            "dtypes: float64(34), int64(6), object(20)\n",
            "memory usage: 87.7+ KB\n",
            "None\n",
            "(184, 60)\n",
            "Index(['idi', 'ID', 'first_author', 'group', 'data_start', 'data_finish',\n",
            "       'country', 'country_additional', 'site_general', 'site_specific',\n",
            "       'diagnosis_details', 'females', 'age', 'diagnosis', 'first_treatment',\n",
            "       'TI', 'tN', 'tmean', 'tSD', 'tmedian', 'tQ1', 'tQ3', 'tIQR ', 'tmin',\n",
            "       'tmax ', 'tmeas', 'tmm', 'DI', 'dN', 'dmean', 'dSD', 'dmedian', 'dQ1',\n",
            "       'dQ3', 'dIQR', 'dmin', 'dmax ', 'dmeas', 'dmm', 'PI', 'pN', 'pmean',\n",
            "       'pSD', 'pmedian', 'pQ1', 'pQ3', 'pIQR', 'pmin', 'pmax ', 'pmeas', 'pmm',\n",
            "       'GNI', 'GNIG', 'HDI', 'ICP_overall', 'ICP_pp', 'ICP_cancerplan',\n",
            "       'ICP_care', 'risk_of_bias', 'lowquality'],\n",
            "      dtype='object')\n"
          ]
        }
      ]
    },
    {
      "cell_type": "markdown",
      "source": [
        "Description of the filtered dataset containing only breast cancer data:\n",
        "\n",
        "*   Dimention: 60 colunmns with 178 observations\n",
        "\n",
        "*   Input features:\n",
        "      *   Study and population characteristics data\n",
        "      *   Diagnostic and treatment data\n",
        "      *   socioeconomic indicators\n",
        "\n",
        "*   Outcomes:\n",
        "    \n",
        "      *   pmm (Patient interval in days): Time from symptom onset to first presentation\n",
        "      *   pmd (Diagnostic interval in days): Time from first presentation to diagnosis\n",
        "      *   pmt (Treatment interval in days): Time from diagnosis to start of treatment\n",
        "\n",
        "\n"
      ],
      "metadata": {
        "id": "3BvfB0DsTDHf"
      }
    },
    {
      "cell_type": "code",
      "source": [
        "#Relative contribution\n",
        "import numpy as np\n",
        "from scipy.stats import norm\n",
        "\n",
        "#Define function\n",
        "def ci_median_ws(alpha, y1, y2):\n",
        "    z = norm.ppf(1 - alpha / 2)\n",
        "    n = len(y1)\n",
        "    med1 = np.median(y1)\n",
        "    med2 = np.median(y2)\n",
        "\n",
        "    # Calculation details omitted for brevity\n",
        "    diff = y1 - y2\n",
        "    se = np.std(diff, ddof=1) / np.sqrt(n)\n",
        "\n",
        "    logratio = np.log(med1 / med2)\n",
        "    ll = np.exp(logratio - z * se)\n",
        "    ul = np.exp(logratio + z * se)\n",
        "\n",
        "    return med1, med2, med1 / med2, ll, ul\n",
        "\n",
        "breast_data = df[(df['site_specific'] == 'breast') &\n",
        "                   (df['PI'] == 1) &\n",
        "                   (df['DI'] == 1) &\n",
        "                   (df['TI'] == 1)]\n",
        "# Calculate pooled medians\n",
        "patient_med = breast_data['pmm'].median()\n",
        "diagnostic_med = breast_data['dmm'].median()\n",
        "treatment_med = breast_data['tmm'].median()\n",
        "\n",
        "# Calculate confidence intervals for ratios\n",
        "di_pi_ci = ci_median_ws(0.05, breast_data['dmm'], breast_data['pmm'])\n",
        "di_ti_ci = ci_median_ws(0.05, breast_data['dmm'], breast_data['tmm'])\n",
        "pi_ti_ci = ci_median_ws(0.05, breast_data['pmm'], breast_data['tmm'])\n",
        "\n",
        "results = pd.DataFrame({\n",
        "    'Interval Ratio': ['Diagnostic/Patient', 'Diagnostic/Treatment', 'Patient/Treatment'],\n",
        "    'Median 1': [di_pi_ci[0], di_ti_ci[0], pi_ti_ci[0]],\n",
        "    'Median 2': [di_pi_ci[1], di_ti_ci[1], pi_ti_ci[2]],\n",
        "    'Median Ratio': [di_pi_ci[2], di_ti_ci[2], pi_ti_ci[2]],\n",
        "    'Lower Bound': [di_pi_ci[3], di_ti_ci[3], pi_ti_ci[3]],\n",
        "    'Upper Bound': [di_pi_ci[4], di_ti_ci[4], pi_ti_ci[4]]\n",
        "})\n",
        "\n",
        "# Display the results table\n",
        "print(results)\n"
      ],
      "metadata": {
        "colab": {
          "base_uri": "https://localhost:8080/"
        },
        "id": "uOF2ehYactb4",
        "outputId": "3acbe48c-dc38-4fa8-9b80-f6e832351713"
      },
      "execution_count": 62,
      "outputs": [
        {
          "output_type": "stream",
          "name": "stdout",
          "text": [
            "         Interval Ratio  Median 1   Median 2  Median Ratio   Lower Bound  \\\n",
            "0    Diagnostic/Patient      24.7  26.500000      0.932075  7.870688e-15   \n",
            "1  Diagnostic/Treatment      24.7  25.500000      0.968627  5.661092e-07   \n",
            "2     Patient/Treatment      26.5   1.039216      1.039216  5.576050e-12   \n",
            "\n",
            "    Upper Bound  \n",
            "0  1.103798e+14  \n",
            "1  1.657346e+06  \n",
            "2  1.936800e+11  \n"
          ]
        }
      ]
    },
    {
      "cell_type": "markdown",
      "source": [
        "\n",
        "\n",
        "*   This code above is provided from the study but written in R. To sumarize, this code is to caculate the confidence interval for the ratio of two population (Breast not pregnancy-associated vs. Breast pregnancy-associated) medians from paired data.\n",
        "*   Error encounutered while translation the R code \"ValueError: operands could not be broadcast together with shapes (56,) (92,)\" suggested that the two numpy arrays y1 and y2 have different length after filtered. To fix this issue, standard error (se) need to be adjusted as \"se = np.std(y1-y2, ddof=1) / np.sqrt(n)\" .\n",
        "\n",
        "\n"
      ],
      "metadata": {
        "id": "eGoKzmZAnnuY"
      }
    },
    {
      "cell_type": "code",
      "source": [
        "\n",
        "from scipy.stats import mannwhitneyu\n",
        "\n",
        "# Define function to calculate the pooled median\n",
        "def pool_med(df, coverage_prob=0.95):\n",
        "    return np.median(df), np.quantile(df, [0.5 - coverage_prob/2, 0.5 + coverage_prob/2])\n",
        "\n",
        "# ALL BREAST CANCER\n",
        "# Patient interval\n",
        "d1 = breast_df[breast_df['PI'] == 1]\n",
        "print(f\"Patient Interval - All Breast Cancer\\nNumber of studies: {d1.shape[0]}, Total N: {d1['pN'].sum()}\")\n",
        "patient_med, patient_ci = pool_med(d1['pmm'])\n",
        "print(f\"Pooled Median: {patient_med}, 95% CI: {patient_ci}\")\n",
        "\n",
        "# stratified Meta-analysis and Wilcoxon Rank Sum Test\n",
        "high_income = d1[d1['GNIG'] == 'high']['pmm'].dropna()\n",
        "lower_income = d1[d1['GNIG'] == 'lower']['pmm'].dropna()\n",
        "\n",
        "if len(high_income) > 0 and len(lower_income) > 0:\n",
        "    # Use Mann-Whitney U test for independent samples\n",
        "    stat, pval = mannwhitneyu(high_income, lower_income, alternative='two-sided')\n",
        "    print(f\"Mann-Whitney U Test (High vs Lower Income): Statistic={stat}, p-value={pval}\")\n",
        "else:\n",
        "    print(\"Not enough data in one of the groups.\")\n",
        "\n",
        "# Diagnostic interval\n",
        "d1 = breast_df[breast_df['DI'] == 1]\n",
        "print(f\"\\nDiagnostic Interval - All Breast Cancer\\nNumber of studies: {d1.shape[0]}, Total N: {d1['dN'].sum()}\")\n",
        "diag_med, diag_ci = pool_med(d1['dmm'])\n",
        "print(f\"Pooled Median: {diag_med}, 95% CI: {diag_ci}\")\n",
        "high_income = d1[d1['GNIG'] == 'high']['pmm'].dropna()\n",
        "lower_income = d1[d1['GNIG'] == 'lower']['pmm'].dropna()\n",
        "if len(high_income) > 0 and len(lower_income) > 0:\n",
        "    # Use Mann-Whitney U test for independent samples\n",
        "    stat, pval = mannwhitneyu(high_income, lower_income, alternative='two-sided')\n",
        "    print(f\"Mann-Whitney U Test (High vs Lower Income): Statistic={stat}, p-value={pval}\")\n",
        "else:\n",
        "    print(\"Not enough data in one of the groups.\")\n",
        "\n",
        "\n",
        "# Treatment interval\n",
        "d1 = breast_df[breast_df['TI'] == 1]\n",
        "print(f\"\\nTreatment Interval - All Breast Cancer\\nNumber of studies: {d1.shape[0]}, Total N: {d1['tN'].sum()}\")\n",
        "treat_med, treat_ci = pool_med(d1['tmm'])\n",
        "print(f\"Pooled Median: {treat_med}, 95% CI: {treat_ci}\")\n",
        "high_income = d1[d1['GNIG'] == 'high']['pmm'].dropna()\n",
        "lower_income = d1[d1['GNIG'] == 'lower']['pmm'].dropna()\n",
        "if len(high_income) > 0 and len(lower_income) > 0:\n",
        "    stat, pval = mannwhitneyu(high_income, lower_income, alternative='two-sided')\n",
        "    print(f\"Mann-Whitney U Test (High vs Lower Income): Statistic={stat}, p-value={pval}\")\n",
        "\n",
        "# NON-Pregnancy associated BREAST CANCER\n",
        "# Patient interval\n",
        "d1 = nonpa_breast_df[nonpa_breast_df['PI'] == 1]\n",
        "print(f\"\\nPatient Interval - Non-Pregnancy Associated Breast Cancer\\nNumber of studies: {d1.shape[0]}, Total N: {d1['pN'].sum()}\")\n",
        "patient_med, patient_ci = pool_med(d1['pmm'])\n",
        "print(f\"Pooled Median: {patient_med}, 95% CI: {patient_ci}\")\n",
        "high_income = d1[d1['GNIG'] == 'high']['pmm'].dropna()\n",
        "lower_income = d1[d1['GNIG'] == 'lower']['pmm'].dropna()\n",
        "if len(high_income) > 0 and len(lower_income) > 0:\n",
        "    stat, pval = mannwhitneyu(high_income, lower_income, alternative='two-sided')\n",
        "    print(f\"Mann-Whitney U Test (High vs Lower Income): Statistic={stat}, p-value={pval}\")\n",
        "\n",
        "# Diagnostic interval\n",
        "d1 = nonpa_breast_df[nonpa_breast_df['DI'] == 1]\n",
        "print(f\"\\nDiagnostic Interval - Non-Pregnancy Associated Breast Cancer\\nNumber of studies: {d1.shape[0]}, Total N: {d1['dN'].sum()}\")\n",
        "diag_med, diag_ci = pool_med(d1['dmm'])\n",
        "print(f\"Pooled Median: {diag_med}, 95% CI: {diag_ci}\")\n",
        "high_income = d1[d1['GNIG'] == 'high']['pmm'].dropna()\n",
        "lower_income = d1[d1['GNIG'] == 'lower']['pmm'].dropna()\n",
        "if len(high_income) > 0 and len(lower_income) > 0:\n",
        "    stat, pval = mannwhitneyu(high_income, lower_income, alternative='two-sided')\n",
        "    print(f\"Mann-Whitney U Test (High vs Lower Income): Statistic={stat}, p-value={pval}\")\n",
        "\n",
        "# Treatment interval\n",
        "d1 = nonpa_breast_df[nonpa_breast_df['TI'] == 1]\n",
        "print(f\"\\nTreatment Interval - Non-Pregnancy Associated Breast Cancer\\nNumber of studies: {d1.shape[0]}, Total N: {d1['tN'].sum()}\")\n",
        "treat_med, treat_ci = pool_med(d1['tmm'])\n",
        "print(f\"Pooled Median: {treat_med}, 95% CI: {treat_ci}\")\n",
        "high_income = d1[d1['GNIG'] == 'high']['pmm'].dropna()\n",
        "lower_income = d1[d1['GNIG'] == 'lower']['pmm'].dropna()\n",
        "if len(high_income) > 0 and len(lower_income) > 0:\n",
        "    stat, pval = mannwhitneyu(high_income, lower_income, alternative='two-sided')\n",
        "    print(f\"Mann-Whitney U Test (High vs Lower Income): Statistic={stat}, p-value={pval}\")\n",
        "\n",
        "# Pregnancy associated BREAST CANCER\n",
        "# Patient interval\n",
        "d1 = pa_breast_df[pa_breast_df['PI'] == 1]\n",
        "print(f\"\\nPatient Interval - Pregnancy Associated Breast Cancer\\nNumber of studies: {d1.shape[0]}, Total N: {d1['pN'].sum()}\")\n",
        "patient_med, patient_ci = pool_med(d1['pmm'])\n",
        "print(f\"Pooled Median: {patient_med}, 95% CI: {patient_ci}\")\n",
        "high_income = d1[d1['GNIG'] == 'high']['pmm'].dropna()\n",
        "lower_income = d1[d1['GNIG'] == 'lower']['pmm'].dropna()\n",
        "if len(high_income) > 0 and len(lower_income) > 0:\n",
        "    stat, pval = mannwhitneyu(high_income, lower_income, alternative='two-sided')\n",
        "    print(f\"Mann-Whitney U Test (High vs Lower Income): Statistic={stat}, p-value={pval}\")\n",
        "\n",
        "# Diagnostic interval\n",
        "d1 = pa_breast_df[pa_breast_df['DI'] == 1]\n",
        "print(f\"\\nDiagnostic Interval - Pregnancy Associated Breast Cancer\\nNumber of studies: {d1.shape[0]}, Total N: {d1['dN'].sum()}\")\n",
        "diag_med, diag_ci = pool_med(d1['dmm'])\n",
        "print(f\"Pooled Median: {diag_med}, 95% CI: {diag_ci}\")\n",
        "high_income = d1[d1['GNIG'] == 'high']['pmm'].dropna()\n",
        "lower_income = d1[d1['GNIG'] == 'lower']['pmm'].dropna()\n",
        "if len(high_income) > 0 and len(lower_income) > 0:\n",
        "    stat, pval = mannwhitneyu(high_income, lower_income, alternative='two-sided')\n",
        "    print(f\"Mann-Whitney U Test (High vs Lower Income): Statistic={stat}, p-value={pval}\")\n",
        "\n",
        "# Treatment interval\n",
        "d1 = pa_breast_df[pa_breast_df['TI'] == 1]\n",
        "print(f\"\\nTreatment Interval - Pregnancy Associated Breast Cancer\\nNumber of studies: {d1.shape[0]}, Total N: {d1['tN'].sum()}\")\n",
        "treat_med, treat_ci = pool_med(d1['tmm'])\n",
        "print(f\"Pooled Median: {treat_med}, 95% CI: {treat_ci}\")\n",
        "high_income = d1[d1['GNIG'] == 'high']['pmm'].dropna()\n",
        "lower_income = d1[d1['GNIG'] == 'lower']['pmm'].dropna()\n",
        "if len(high_income) > 0 and len(lower_income) > 0:\n",
        "    stat, pval = mannwhitneyu(high_income, lower_income, alternative='two-sided')\n",
        "    print(f\"Mann-Whitney U Test (High vs Lower Income): Statistic={stat}, p-value={pval}\")"
      ],
      "metadata": {
        "colab": {
          "base_uri": "https://localhost:8080/"
        },
        "id": "SOBXeCc6dh8J",
        "outputId": "c3c5cea2-6533-4d4f-ebf5-729deb74321c"
      },
      "execution_count": 63,
      "outputs": [
        {
          "output_type": "stream",
          "name": "stdout",
          "text": [
            "Patient Interval - All Breast Cancer\n",
            "Number of studies: 93, Total N: 24957.0\n",
            "Pooled Median: 42.699999999999996, 95% CI: [  7.   382.08]\n",
            "Mann-Whitney U Test (High vs Lower Income): Statistic=518.0, p-value=0.0025414160350378497\n",
            "\n",
            "Diagnostic Interval - All Breast Cancer\n",
            "Number of studies: 56, Total N: 95053.0\n",
            "Pooled Median: 24.5, 95% CI: [  3.125 148.125]\n",
            "Mann-Whitney U Test (High vs Lower Income): Statistic=105.0, p-value=0.33924858997909046\n",
            "\n",
            "Treatment Interval - All Breast Cancer\n",
            "Number of studies: 99, Total N: 1709349.0240000002\n",
            "Pooled Median: 29.0, 95% CI: [ 9.25 66.3 ]\n",
            "Mann-Whitney U Test (High vs Lower Income): Statistic=70.5, p-value=0.3530624679337754\n",
            "\n",
            "Patient Interval - Non-Pregnancy Associated Breast Cancer\n",
            "Number of studies: 87, Total N: 24812.0\n",
            "Pooled Median: 42.14, 95% CI: [  7.   386.04]\n",
            "Mann-Whitney U Test (High vs Lower Income): Statistic=403.5, p-value=0.0023838186537247586\n",
            "\n",
            "Diagnostic Interval - Non-Pregnancy Associated Breast Cancer\n",
            "Number of studies: 51, Total N: 94808.0\n",
            "Pooled Median: 25.0, 95% CI: [  6. 144.]\n",
            "Mann-Whitney U Test (High vs Lower Income): Statistic=62.0, p-value=0.29383805010336217\n",
            "\n",
            "Treatment Interval - Non-Pregnancy Associated Breast Cancer\n",
            "Number of studies: 95, Total N: 1709116.0240000002\n",
            "Pooled Median: 30.0, 95% CI: [ 8.75 66.9 ]\n",
            "Mann-Whitney U Test (High vs Lower Income): Statistic=36.5, p-value=0.1372492783707758\n",
            "\n",
            "Patient Interval - Pregnancy Associated Breast Cancer\n",
            "Number of studies: 6, Total N: 145.0\n",
            "Pooled Median: 61.0, 95% CI: [ 30.625 260.375]\n",
            "Mann-Whitney U Test (High vs Lower Income): Statistic=0.0, p-value=0.10020951184501455\n",
            "\n",
            "Diagnostic Interval - Pregnancy Associated Breast Cancer\n",
            "Number of studies: 5, Total N: 245.0\n",
            "Pooled Median: 8.0, 95% CI: [  1.1 191.7]\n",
            "Mann-Whitney U Test (High vs Lower Income): Statistic=0.0, p-value=0.27650048008343264\n",
            "\n",
            "Treatment Interval - Pregnancy Associated Breast Cancer\n",
            "Number of studies: 4, Total N: 233.0\n",
            "Pooled Median: 20.0, 95% CI: [19.    23.775]\n"
          ]
        }
      ]
    },
    {
      "cell_type": "markdown",
      "source": [
        "\n",
        "\n",
        "*   This code above is provided from the study but written in R. To sumarize, this code is to analyze and compare the intervals of different stages of breast cancer diagnosis and treatment, assessing whether there are significant differences based on income levels and potentially other factors, across all countries included in the dataset.\n",
        "*   The error \"ValueError: The samples x and y must have the same length\" occurs because the higher_income and lower_income have different number of observations after filtered and the wilcoxon function expects two datasets of equal length when comparing paired samples.\n",
        "*   Since the nature of the data is not paired,\"Records after filtering: 93, High-income records: 26, Lower-income records: 67\". The groups should be considered independent rather than paired, sothe Mann-Whitney U test was used to compare the high-income and lower-income groups.\n",
        "\n",
        "\n",
        "\n",
        "\n",
        "\n",
        "\n"
      ],
      "metadata": {
        "id": "NfVrfsMC29tk"
      }
    },
    {
      "cell_type": "code",
      "source": [
        "#Intervals HIC\n",
        "#patient interval\n",
        "d1 = df[(df['site_specific'].isin(['PA breast', 'breast'])) & (df['PI'] == 1) & (df['GNI'] == 'high')]\n",
        "print(d1.shape)\n",
        "print(d1['pN'].sum())\n",
        "patient_med, patient_ci = pool_med(d1['pmm'])\n",
        "print(\"Pooled Median - Patient Interval:\")\n",
        "print(f\"Median: {patient_med}, 95% CI: {patient_ci}\")\n",
        "#diagnostic interval\n",
        "d1 = df[(df['site_specific'].isin(['PA breast', 'breast'])) & (df['DI'] == 1) & (df['GNI'] == 'high')]\n",
        "print(d1.shape)\n",
        "print(d1['dN'].sum())\n",
        "diagnostic_med, diagnostic_ci = pool_med(d1['dmm'])\n",
        "print(\"Pooled Median - Diagnostic Interval:\")\n",
        "print(f\"Median: {diagnostic_med}, 95% CI: {diagnostic_ci}\")\n",
        "# Treatment interval\n",
        "d1 = df[(df['site_specific'].isin(['PA breast', 'breast'])) & (df['TI'] == 1) & (df['GNI'] == 'high')]\n",
        "print(d1.shape)\n",
        "print(d1['tN'].sum())\n",
        "treatment_med, treatment_ci = pool_med(d1['tmm'])\n",
        "print(\"Pooled Median - Treatment Interval:\")\n",
        "print(f\"Median: {treatment_med}, 95% CI: {treatment_ci}\")\n",
        "\n",
        "#NON-Pregnancy associated BREAST CANCER\n",
        "#patient interval\n",
        "d1 = df[(df['site_specific'] == 'breast') & (df['PI'] == 1) & (df['GNI'] == 'high')]\n",
        "print(d1.shape)\n",
        "print(d1['pN'].sum())\n",
        "patient_med, patient_ci = pool_med(d1['pmm'])\n",
        "print(\"Pooled Median - Patient Interval (Non-Pregnancy associated BREAST CANCER):\")\n",
        "print(f\"Median: {patient_med}, 95% CI: {patient_ci}\")\n",
        "#diagnostic interval\n",
        "d1 = df[(df['site_specific'] == 'breast') & (df['DI'] == 1) & (df['GNI'] == 'high')]\n",
        "print(d1.shape)\n",
        "print(d1['dN'].sum())\n",
        "diagnostic_med, diagnostic_ci = pool_med(d1['dmm'])\n",
        "print(\"Pooled Median - Diagnostic Interval (Non-Pregnancy associated BREAST CANCER):\")\n",
        "print(f\"Median: {diagnostic_med}, 95% CI: {diagnostic_ci}\")\n",
        "\n",
        "#Treatment interval\n",
        "d1 = df[(df['site_specific'] == 'breast') & (df['TI'] == 1) & (df['GNI'] == 'high')]\n",
        "print(d1.shape)\n",
        "print(d1['tN'].sum())\n",
        "treatment_med, treatment_ci = pool_med(d1['tmm'])\n",
        "print(\"Pooled Median - Treatment Interval (Non-Pregnancy associated BREAST CANCER):\")\n",
        "print(f\"Median: {treatment_med}, 95% CI: {treatment_ci}\")\n",
        "\n",
        "#Pregnancy associated BREAST CANCER\n",
        "#patient interval\n",
        "d1 = df[(df['site_specific'] == 'PA breast') & (df['PI'] == 1) & (df['GNI'] == 'high')]\n",
        "print(d1.shape)\n",
        "print(d1['pN'].sum())\n",
        "patient_med, patient_ci = pool_med(d1['pmm'])\n",
        "print(\"Pooled Median - Patient Interval (Pregnancy associated BREAST CANCER):\")\n",
        "print(f\"Median: {patient_med}, 95% CI: {patient_ci}\")\n",
        "\n",
        "#diagnostic interval\n",
        "d1 = df[(df['site_specific'] == 'PA breast') & (df['DI'] == 1) & (df['GNI'] == 'high')]\n",
        "print(d1.shape)\n",
        "print(d1['dN'].sum())\n",
        "diagnostic_med, diagnostic_ci = pool_med(d1['dmm'])\n",
        "print(\"Pooled Median - Diagnostic Interval (Pregnancy associated BREAST CANCER):\")\n",
        "print(f\"Median: {diagnostic_med}, 95% CI: {diagnostic_ci}\")\n",
        "\n",
        "#Treatment interval\n",
        "d1 = df[(df['site_specific'] == 'PA breast') & (df['TI'] == 1) & (df['GNI'] == 'high')]\n",
        "print(d1.shape)\n",
        "print(d1['tN'].sum())\n",
        "treatment_med, treatment_ci = pool_med(d1['tmm'])\n",
        "print(\"Pooled Median - Treatment Interval (Pregnancy associated BREAST CANCER):\")\n",
        "print(f\"Median: {treatment_med}, 95% CI: {treatment_ci}\")\n"
      ],
      "metadata": {
        "colab": {
          "base_uri": "https://localhost:8080/"
        },
        "id": "oSSes2-9eC8d",
        "outputId": "f659f2df-6950-42f8-e581-56587a9dfc8e"
      },
      "execution_count": 37,
      "outputs": [
        {
          "output_type": "stream",
          "name": "stdout",
          "text": [
            "(26, 60)\n",
            "6911.0\n",
            "Pooled Median - Patient Interval:\n",
            "Median: 31.939999999999998, 95% CI: (6.625000000000001, 99.6875)\n",
            "(30, 60)\n",
            "87053.0\n",
            "Pooled Median - Diagnostic Interval:\n",
            "Median: 19.0, 95% CI: (1.7250000000000005, 46.77499999999997)\n",
            "(70, 60)\n",
            "1698176.024\n",
            "Pooled Median - Treatment Interval:\n",
            "Median: 29.5, 95% CI: (10.625000000000007, 47.64999999999995)\n",
            "(22, 60)\n",
            "6798.0\n",
            "Pooled Median - Patient Interval (Non-Pregnancy associated BREAST CANCER):\n",
            "Median: 28.5, 95% CI: (6.525, 102.93749999999993)\n",
            "(26, 60)\n",
            "86820.0\n",
            "Pooled Median - Diagnostic Interval (Non-Pregnancy associated BREAST CANCER):\n",
            "Median: 21.0, 95% CI: (5.625000000000001, 48.875)\n",
            "(66, 60)\n",
            "1697943.0239999997\n",
            "Pooled Median - Treatment Interval (Non-Pregnancy associated BREAST CANCER):\n",
            "Median: 30.85, 95% CI: (10.125000000000007, 48.25)\n",
            "(4, 60)\n",
            "113.0\n",
            "Pooled Median - Patient Interval (Pregnancy associated BREAST CANCER):\n",
            "Median: 48.0, 95% CI: (30.375, 61.0)\n",
            "(4, 60)\n",
            "233.0\n",
            "Pooled Median - Diagnostic Interval (Pregnancy associated BREAST CANCER):\n",
            "Median: 5.0, 95% CI: (1.0750000000000002, 8.925)\n",
            "(4, 60)\n",
            "233.0\n",
            "Pooled Median - Treatment Interval (Pregnancy associated BREAST CANCER):\n",
            "Median: 20.0, 95% CI: (19.0, 23.775)\n"
          ]
        }
      ]
    },
    {
      "cell_type": "code",
      "source": [
        "#Intervals LIC\n",
        "#patient interval\n",
        "d1 = df[(df['site_specific'].isin(['PA breast', 'breast'])) & (df['PI'] == 1) & (df['GNIG'] == 'lower')]\n",
        "print(d1.shape)\n",
        "print(d1['pN'].sum())\n",
        "patient_med, patient_ci = pool_med(d1['pmm'])\n",
        "print(\"Pooled Median - Patient Interval (Intervals LIC):\")\n",
        "print(f\"Median: {patient_med}, 95% CI: {patient_ci}\")\n",
        "\n",
        "#diagnostic interval\n",
        "d1 = df[(df['site_specific'].isin(['PA breast', 'breast'])) & (df['DI'] == 1) & (df['GNIG'] == 'lower')]\n",
        "print(d1.shape)\n",
        "print(d1['dN'].sum())\n",
        "diagnostic_med, diagnostic_ci = pool_med(d1['dmm'])\n",
        "print(\"Pooled Median - Diagnostic Interval (Intervals LIC):\")\n",
        "print(f\"Median: {diagnostic_med}, 95% CI: {diagnostic_ci}\")\n",
        "\n",
        "#treatment interval\n",
        "d1 = df[(df['site_specific'].isin(['PA breast', 'breast'])) & (df['TI'] == 1) & (df['GNIG'] == 'lower')]\n",
        "print(d1.shape)\n",
        "print(d1['tN'].sum())\n",
        "treatment_med, treatment_ci = pool_med(d1['tmm'])\n",
        "print(\"Pooled Median - Treatment Interval (Intervals LIC):\")\n",
        "print(f\"Median: {treatment_med}, 95% CI: {treatment_ci}\")\n",
        "\n",
        "\n",
        "#NON-Pregnancy associated BREAST CANCER\n",
        "#patient interval\n",
        "d1 = df[(df['site_specific'] == 'breast') & (df['PI'] == 1) & (df['GNIG'] == 'lower')]\n",
        "print(d1.shape)\n",
        "print(d1['pN'].sum())\n",
        "patient_med, patient_ci = pool_med(d1['pmm'])\n",
        "print(\"Pooled Median - Patient Interval (NON-Pregnancy associated BREAST CANCER):\")\n",
        "print(f\"Median: {patient_med}, 95% CI: {patient_ci}\")\n",
        "\n",
        "#diagnostic interval\n",
        "d1 = df[(df['site_specific'] == 'breast') & (df['DI'] == 1) & (df['GNIG'] == 'lower')]\n",
        "print(d1.shape)\n",
        "print(d1['dN'].sum())\n",
        "diagnostic_med, diagnostic_ci = pool_med(d1['dmm'])\n",
        "print(\"Pooled Median - Diagnostic Interval (NON-Pregnancy associated BREAST CANCER):\")\n",
        "print(f\"Median: {diagnostic_med}, 95% CI: {diagnostic_ci}\")\n",
        "\n",
        "#Treatment interval\n",
        "d1 = df[(df['site_specific'] == 'breast') & (df['TI'] == 1) & (df['GNIG'] == 'lower')]\n",
        "print(d1.shape)\n",
        "print(d1['tN'].sum())\n",
        "treatment_med, treatment_ci = pool_med(d1['tmm'])\n",
        "print(\"Pooled Median - Treatment Interval (NON-Pregnancy associated BREAST CANCER):\")\n",
        "print(f\"Median: {treatment_med}, 95% CI: {treatment_ci}\")\n",
        "\n",
        "\n",
        "#Pregnancy associated BREAST CANCER\n",
        "#patient interval\n",
        "d1 = df[(df['site_specific'] == 'PA breast') & (df['PI'] == 1) & (df['GNIG'] == 'lower')]\n",
        "print(d1.shape)\n",
        "print(d1['pN'].sum())\n",
        "patient_med, patient_ci = pool_med(d1['pmm'])\n",
        "print(\"Pooled Median - Patient Interval (Pregnancy associated BREAST CANCER):\")\n",
        "print(f\"Median: {patient_med}, 95% CI: {patient_ci}\")\n",
        "\n",
        "#diagnostic interval\n",
        "d1 = df[(df['site_specific'] == 'PA breast') & (df['DI'] == 1) & (df['GNIG'] == 'lower')]\n",
        "print(d1.shape)\n",
        "print(d1['dN'].sum())\n",
        "diagnostic_med, diagnostic_ci = pool_med(d1['dmm'])\n",
        "print(\"Pooled Median - Diagnostic Interval (Pregnancy associated BREAST CANCER):\")\n",
        "print(f\"Median: {diagnostic_med}, 95% CI: {diagnostic_ci}\")\n"
      ],
      "metadata": {
        "colab": {
          "base_uri": "https://localhost:8080/"
        },
        "id": "yq_9HzXzeIar",
        "outputId": "63032e11-45b4-41d4-eaa8-f756507e86ff"
      },
      "execution_count": 44,
      "outputs": [
        {
          "output_type": "stream",
          "name": "stdout",
          "text": [
            "(67, 60)\n",
            "18046.0\n",
            "Pooled Median - Patient Interval (Intervals LIC):\n",
            "Median: 58.0, 95% CI: (9.0, 393.04499999999996)\n",
            "(26, 60)\n",
            "8000.0\n",
            "Pooled Median - Diagnostic Interval (Intervals LIC):\n",
            "Median: 55.0, 95% CI: (11.625000000000005, 173.25)\n",
            "(29, 60)\n",
            "11173.0\n",
            "Pooled Median - Treatment Interval (Intervals LIC):\n",
            "Median: 28.0, 95% CI: (10.970000000000006, 102.30000000000007)\n",
            "(65, 60)\n",
            "18014.0\n",
            "Pooled Median - Patient Interval (NON-Pregnancy associated BREAST CANCER):\n",
            "Median: 50.0, 95% CI: (9.0, 393.47999999999996)\n",
            "(25, 60)\n",
            "7988.0\n",
            "Pooled Median - Diagnostic Interval (NON-Pregnancy associated BREAST CANCER):\n",
            "Median: 53.0, 95% CI: (11.400000000000006, 147.0)\n",
            "(29, 60)\n",
            "11173.0\n",
            "Pooled Median - Treatment Interval (NON-Pregnancy associated BREAST CANCER):\n",
            "Median: 28.0, 95% CI: (10.970000000000006, 102.30000000000007)\n",
            "(2, 60)\n",
            "32.0\n",
            "Pooled Median - Patient Interval (Pregnancy associated BREAST CANCER):\n",
            "Median: 195.5, 95% CI: (113.325, 277.675)\n",
            "(1, 60)\n",
            "12.0\n",
            "Pooled Median - Diagnostic Interval (Pregnancy associated BREAST CANCER):\n",
            "Median: 212.0, 95% CI: (212.0, 212.0)\n"
          ]
        }
      ]
    },
    {
      "cell_type": "code",
      "source": [
        "import matplotlib.pyplot as plt\n",
        "\n",
        "\n",
        "# Create a list of labels for the x-axis\n",
        "labels = ['Patient Interval', 'Diagnostic Interval', 'Treatment Interval']\n",
        "\n",
        "# Create lists for the medians and confidence intervals for all breast cancer\n",
        "all_medians = [31.94, 19.0, 29.5]\n",
        "all_lower_cis = [6.625, 1.725, 10.625]\n",
        "all_upper_cis = [99.6875, 46.775, 47.65]\n",
        "\n",
        "# Create lists for the medians and confidence intervals for non-pregnancy associated breast cancer\n",
        "non_pa_medians = [28.5, 21.0, 30.85]\n",
        "non_pa_lower_cis = [6.525, 5.625, 10.125]\n",
        "non_pa_upper_cis = [102.9375, 48.875, 48.25]\n",
        "\n",
        "# Create lists for the medians and confidence intervals for pregnancy associated breast cancer\n",
        "pa_medians = [48.0, 5.0, 20.0]\n",
        "pa_lower_cis = [30.375, 1.075, 19.0]\n",
        "pa_upper_cis = [61.0, 8.925, 23.775]\n",
        "\n",
        "# Set the figure size\n",
        "plt.figure(figsize=(10, 6))\n",
        "\n",
        "# Create the bar plot for all breast cancer\n",
        "x = np.arange(len(labels))\n",
        "plt.bar(x - 0.3, all_medians, yerr=[np.array(all_medians) - np.array(all_lower_cis), np.array(all_upper_cis) - np.array(all_medians)], capsize=5, label='All Breast Cancer', width=0.2)\n",
        "\n",
        "# Create the bar plot for non-pregnancy associated breast cancer\n",
        "plt.bar(x, non_pa_medians, yerr=[np.array(non_pa_medians) - np.array(non_pa_lower_cis), np.array(non_pa_upper_cis) - np.array(non_pa_medians)], capsize=5, label='Non-Pregnancy Associated Breast Cancer', width=0.2)\n",
        "\n",
        "# Create the bar plot for pregnancy associated breast cancer\n",
        "plt.bar(x + 0.3, pa_medians, yerr=[np.array(pa_medians) - np.array(pa_lower_cis), np.array(pa_upper_cis) - np.array(pa_medians)], capsize=5, label='Pregnancy Associated Breast Cancer', width=0.2)\n",
        "\n",
        "# Set the x-axis tick labels\n",
        "plt.xticks(x, labels)\n",
        "\n",
        "# Add labels and title\n",
        "plt.xlabel('Interval Type')\n",
        "plt.ylabel('Median Duration (Days)')\n",
        "plt.title('Median Duration of Intervals for Breast Cancer')\n",
        "plt.legend()\n",
        "\n",
        "# Show the plot\n",
        "plt.show()\n"
      ],
      "metadata": {
        "colab": {
          "base_uri": "https://localhost:8080/",
          "height": 564
        },
        "id": "L4CnjLQmrHiT",
        "outputId": "2ae7bcaf-1744-4fe6-ce57-425b36169522"
      },
      "execution_count": 24,
      "outputs": [
        {
          "output_type": "display_data",
          "data": {
            "text/plain": [
              "<Figure size 1000x600 with 1 Axes>"
            ],
            "image/png": "[encoded data removed]"
          },
          "metadata": {}
        }
      ]
    },
    {
      "cell_type": "markdown",
      "source": [
        "No valid records for the filtering senario that Pregnancy associated BREAST CANCER in treatment interval"
      ],
      "metadata": {
        "id": "QEyADq6pRBm0"
      }
    },
    {
      "cell_type": "code",
      "source": [
        "#Treatment interval\n",
        "# Check how many records match the conditions individually\n",
        "print(\"Records with 'PA breast':\", df[df['site_specific'] == 'PA breast'].shape[0])\n",
        "print(\"Records where 'TI' is 1:\", df[df['TI'] == 1].shape[0])\n",
        "print(\"Records with 'GNIG' as 'lower':\", df[df['GNIG'] == 'lower'].shape[0])\n",
        "\n",
        "# Check how many records meet all conditions\n",
        "print(\"Records meeting all conditions:\", df[(df['site_specific'] == 'PA breast') & (df['TI'] == 1) & (df['GNIG'] == 'lower')].shape[0])\n",
        "\n"
      ],
      "metadata": {
        "colab": {
          "base_uri": "https://localhost:8080/"
        },
        "id": "hVs-tIUMOUlY",
        "outputId": "1718fb1c-3e3f-4590-801c-c81dafd92e48"
      },
      "execution_count": 43,
      "outputs": [
        {
          "output_type": "stream",
          "name": "stdout",
          "text": [
            "Records with 'PA breast': 6\n",
            "Records where 'TI' is 1: 465\n",
            "Records with 'GNIG' as 'lower': 179\n",
            "Records meeting all conditions: 0\n"
          ]
        }
      ]
    },
    {
      "cell_type": "markdown",
      "source": [
        "Research Question: How do the patient, diagnostic, and treatment intervals for breast cancer vary across different income levels (high-income vs. lower-income countries), and what factors contribute to these differences?\n",
        "\n",
        "*   Dependent Variables:\n",
        "      Patient Interval Duration (e.g., pmm)\n",
        "      Diagnostic Interval Duration (e.g., dmm)\n",
        "      Treatment Interval Duration (e.g., tmm)\n",
        "\n",
        "*   Independent Variables:\n",
        "      GNI group (high-income vs. lower-income)\n",
        "\n",
        "*   Additional other relevant variables that may influence the interval durations:\n",
        "      Demographic factors\n",
        "      Clinical factors\n",
        "      Healthcare system factors\n",
        "      Socioeconomic factors\n",
        "\n",
        "*   Model Selection: Ridge (L2 regularization) and Lasso (L1 regularization)\n",
        "    *   Since the dataset is small after filtered from the original data, ridge and lasso regression model is used to help prevent overfitting by penalizing large coefficients in linear regression models.\n",
        "    *   The Normality Assumption test shows a very small p-value (P<0.01) which suggest that the residuals are normally distributed.\n",
        "    *   The Levene's test result shows a p-value of 0.0036 which indicated the homogeneity of variances assumption for the linear regression model is violated.\n",
        "    \n",
        "\n",
        "\n",
        "\n",
        "\n",
        "\n"
      ],
      "metadata": {
        "id": "xpFxn5M73vFA"
      }
    },
    {
      "cell_type": "code",
      "source": [
        "\n",
        "from scipy.stats import shapiro, levene\n",
        "from sklearn.linear_model import LinearRegression\n",
        "\n",
        "# Load data\n",
        "d1 = breast_df[breast_df['PI'] == 1]\n",
        "d1 = d1[['pmm', 'GNIG']].dropna()\n",
        "\n",
        "# Encode GNIG as a binary variable\n",
        "d1['GNIG_high'] = d1['GNIG'].apply(lambda x: 1 if x == 'high' else 0)\n",
        "\n",
        "# Split data into predictor and target outcomes\n",
        "X = d1['GNIG_high'].values.reshape(-1, 1)\n",
        "y = d1['pmm'].values\n",
        "\n",
        "# Linearity Assumption\n",
        "plt.figure(figsize=(8, 6))\n",
        "plt.scatter(X, y)\n",
        "plt.xlabel('GNIG_high')\n",
        "plt.ylabel('pmm')\n",
        "plt.title('Linearity Check')\n",
        "plt.show()\n",
        "\n",
        "# Normality Assumption\n",
        "from statsmodels.stats.diagnostic import normal_ad\n",
        "linreg = LinearRegression()\n",
        "linreg.fit(X, y)\n",
        "residuals = y - linreg.predict(X)\n",
        "print('Normality Test (Anderson-Darling):')\n",
        "print(normal_ad(residuals))\n",
        "\n",
        "# Homoscedasticity Assumption\n",
        "plt.figure(figsize=(8, 6))\n",
        "plt.scatter(linreg.predict(X), residuals)\n",
        "plt.axhline(y=0, color='r', linestyle='--')\n",
        "plt.xlabel('Predicted Values')\n",
        "plt.ylabel('Residuals')\n",
        "plt.title('Homoscedasticity Check')\n",
        "plt.show()\n",
        "\n",
        "# Levene's Test for Homogeneity of Variances\n",
        "groups = np.unique(X)\n",
        "residuals_grouped = [residuals[X.flatten() == group] for group in groups]\n",
        "print('Levene\\'s Test for Homogeneity of Variances:')\n",
        "print(levene(*residuals_grouped))"
      ],
      "metadata": {
        "colab": {
          "base_uri": "https://localhost:8080/",
          "height": 1000
        },
        "id": "9cDjTHYVi_Cs",
        "outputId": "2407f83b-24a5-42c8-840f-457172c94138"
      },
      "execution_count": 15,
      "outputs": [
        {
          "output_type": "display_data",
          "data": {
            "text/plain": [
              "<Figure size 800x600 with 1 Axes>"
            ],
            "image/png": "[encoded data removed]"
          },
          "metadata": {}
        },
        {
          "output_type": "stream",
          "name": "stdout",
          "text": [
            "Normality Test (Anderson-Darling):\n",
            "(5.141419785404267, 8.418977269699606e-13)\n"
          ]
        },
        {
          "output_type": "display_data",
          "data": {
            "text/plain": [
              "<Figure size 800x600 with 1 Axes>"
            ],
            "image/png": "[encoded data removed]"
          },
          "metadata": {}
        },
        {
          "output_type": "stream",
          "name": "stdout",
          "text": [
            "Levene's Test for Homogeneity of Variances:\n",
            "LeveneResult(statistic=8.92878735705624, pvalue=0.0036082516487118063)\n"
          ]
        }
      ]
    },
    {
      "cell_type": "code",
      "source": [
        "\n",
        "from sklearn.linear_model import HuberRegressor\n",
        "\n",
        "# Load data\n",
        "d1 = breast_df[breast_df['PI'] == 1]\n",
        "d1 = d1[['pmm', 'GNIG']].dropna()\n",
        "\n",
        "# Encode GNIG as a binary variable\n",
        "d1['GNIG_high'] = d1['GNIG'].apply(lambda x: 1 if x == 'high' else 0)\n",
        "\n",
        "# Split data into predictor and target variables\n",
        "X = d1['GNIG_high'].values.reshape(-1, 1)\n",
        "y = d1['pmm'].values\n",
        "\n",
        "# Huber Regression\n",
        "huber = HuberRegressor()\n",
        "huber.fit(X, y)\n",
        "print(\"Huber Regression:\")\n",
        "print(f\"Coefficients: {huber.coef_}\")\n",
        "print(f\"Intercept: {huber.intercept_}\")"
      ],
      "metadata": {
        "colab": {
          "base_uri": "https://localhost:8080/"
        },
        "id": "9a2gEzLYjQAe",
        "outputId": "bbfea415-58c2-47e8-c0cb-7c67caff587d"
      },
      "execution_count": 16,
      "outputs": [
        {
          "output_type": "stream",
          "name": "stdout",
          "text": [
            "Huber Regression:\n",
            "Coefficients: [-31.78979443]\n",
            "Intercept: 66.95176263962615\n"
          ]
        }
      ]
    },
    {
      "cell_type": "code",
      "source": [
        "from sklearn.model_selection import train_test_split\n",
        "from sklearn.metrics import r2_score, mean_squared_error, mean_absolute_error\n",
        "\n",
        "# Split data into training and testing sets\n",
        "X_train, X_test, y_train, y_test = train_test_split(X, y, test_size=0.2, random_state=42)\n",
        "\n",
        "# Huber Regression\n",
        "huber = HuberRegressor()\n",
        "huber.fit(X_train, y_train)\n",
        "\n",
        "# Linear Regression with Log Transformation\n",
        "linreg = LinearRegression()\n",
        "linreg.fit(X_train, np.log(y_train))\n",
        "\n",
        "# Huber Regression\n",
        "y_pred_huber = huber.predict(X_test)\n",
        "print(\"Huber Regression:\")\n",
        "print(f\"R-squared: {r2_score(y_test, y_pred_huber):.2f}\")\n",
        "print(f\"MSE: {mean_squared_error(y_test, y_pred_huber):.2f}\")\n",
        "print(f\"MAE: {mean_absolute_error(y_test, y_pred_huber):.2f}\")\n",
        "\n",
        "# Linear Regression with Log Transformation\n",
        "y_pred_linreg = np.exp(linreg.predict(X_test))  # Reverse log transformation for predictions\n",
        "print(\"\\nLinear Regression with Log Transformation:\")\n",
        "print(f\"R-squared: {r2_score(y_test, y_pred_linreg):.2f}\")\n",
        "print(f\"MSE: {mean_squared_error(y_test, y_pred_linreg):.2f}\")\n",
        "print(f\"MAE: {mean_absolute_error(y_test, y_pred_linreg):.2f}\")"
      ],
      "metadata": {
        "colab": {
          "base_uri": "https://localhost:8080/"
        },
        "id": "7YKANuK3ja9g",
        "outputId": "a6680f2c-e5ea-42b2-fbe5-982b16e1f44e"
      },
      "execution_count": 17,
      "outputs": [
        {
          "output_type": "stream",
          "name": "stdout",
          "text": [
            "Huber Regression:\n",
            "R-squared: -0.24\n",
            "MSE: 25323.08\n",
            "MAE: 106.87\n",
            "\n",
            "Linear Regression with Log Transformation:\n",
            "R-squared: -0.27\n",
            "MSE: 26009.31\n",
            "MAE: 108.15\n"
          ]
        }
      ]
    },
    {
      "cell_type": "code",
      "source": [
        "\n",
        "from scipy.stats import mannwhitneyu\n",
        "from sklearn.linear_model import Ridge, Lasso\n",
        "\n",
        "# Ridge Regression for Patient Interval\n",
        "# All Breast Cancer\n",
        "d1 = breast_df[breast_df['PI'] == 1]\n",
        "d1 = d1[['pmm', 'GNIG']].dropna()  # Drop rows with missing values\n",
        "\n",
        "# Encode GNIG as a binary variable\n",
        "d1['GNIG_high'] = d1['GNIG'].apply(lambda x: 1 if x == 'high' else 0)\n",
        "\n",
        "# Fit Ridge regression model\n",
        "X = d1['GNIG_high'].values.reshape(-1, 1)\n",
        "y = d1['pmm'].values\n",
        "ridge = Ridge(alpha=0.1)  # Alpha controls the regularization strength\n",
        "ridge.fit(X, y)\n",
        "print(f\"Ridge Regression for Patient Interval: Coefficients={ridge.coef_}, Intercept={ridge.intercept_}\")\n",
        "\n",
        "# Lasso Regression for Diagnostic Interval\n",
        "# All Breast Cancer\n",
        "d1 = breast_df[breast_df['DI'] == 1]\n",
        "d1 = d1[['dmm', 'GNIG']].dropna()  # Drop rows with missing values\n",
        "\n",
        "# Encode GNIG as a binary variable\n",
        "d1['GNIG_high'] = d1['GNIG'].apply(lambda x: 1 if x == 'high' else 0)\n",
        "\n",
        "# Fit Lasso regression model\n",
        "X = d1['GNIG_high'].values.reshape(-1, 1)\n",
        "y = d1['dmm'].values\n",
        "lasso = Lasso(alpha=0.1)  # Alpha controls the regularization strength\n",
        "lasso.fit(X, y)\n",
        "print(f\"Lasso Regression for Diagnostic Interval: Coefficients={lasso.coef_}, Intercept={lasso.intercept_}\")\n",
        "\n",
        "# Ridge Regression for Treatment Interval\n",
        "# All Breast Cancer\n",
        "d1 = breast_df[breast_df['TI'] == 1]\n",
        "d1 = d1[['tmm', 'GNIG']].dropna()  # Drop rows with missing values\n",
        "\n",
        "# Encode GNIG as a binary variable\n",
        "d1['GNIG_high'] = d1['GNIG'].apply(lambda x: 1 if x == 'high' else 0)\n",
        "\n",
        "# Fit Ridge regression model\n",
        "X = d1['GNIG_high'].values.reshape(-1, 1)\n",
        "y = d1['tmm'].values\n",
        "ridge = Ridge(alpha=0.1)  # Alpha controls the regularization strength\n",
        "ridge.fit(X, y)\n",
        "print(f\"Ridge Regression for Treatment Interval: Coefficients={ridge.coef_}, Intercept={ridge.intercept_}\")"
      ],
      "metadata": {
        "colab": {
          "base_uri": "https://localhost:8080/"
        },
        "id": "JH5H5tqm3wep",
        "outputId": "2c3f220c-1180-49fb-f69d-5b16bf6aee76"
      },
      "execution_count": 18,
      "outputs": [
        {
          "output_type": "stream",
          "name": "stdout",
          "text": [
            "Ridge Regression for Patient Interval: Coefficients=[-61.22246331], Intercept=98.21101124878662\n",
            "Lasso Regression for Diagnostic Interval: Coefficients=[-48.02897436], Intercept=67.24230769230768\n",
            "Ridge Regression for Treatment Interval: Coefficients=[-7.65711064], Intercept=37.05290651502525\n"
          ]
        }
      ]
    },
    {
      "cell_type": "markdown",
      "source": [
        "Result interpretation:\n",
        "\n",
        "\n",
        "1.   Ridge Regression for Patient Interval: on average, the patient interval duration is shorter by approximately 61 days in high-income countries compared to lower-income countries, after accounting for regularization.\n",
        "2.  Lasso Regression for Diagnostic Interval: the difference in diagnostic interval duration (in days) between high-income and lower-income countries i -48, suggest that the diagnostic interval duration is shorter by approximately 48 days in high-income countries compared to lower-income countries, after accounting for regularization.\n",
        "3. Ridge Regression for Treatment Interval: on average, the treatment interval duration is shorter by approximately 8 days in high-income countries compared to lower-income countries, after accounting for regularization.\n",
        "\n"
      ],
      "metadata": {
        "id": "-1qJcuhUCrLP"
      }
    },
    {
      "cell_type": "code",
      "source": [
        "\n",
        "from sklearn.linear_model import LinearRegression, Ridge, Lasso\n",
        "from sklearn.metrics import r2_score, mean_squared_error, mean_absolute_error\n",
        "\n",
        "# Load data\n",
        "d1 = breast_df[breast_df['PI'] == 1]\n",
        "d1 = d1[['pmm', 'GNIG']].dropna()\n",
        "\n",
        "# Encode GNIG as a binary variable\n",
        "d1['GNIG_high'] = d1['GNIG'].apply(lambda x: 1 if x == 'high' else 0)\n",
        "\n",
        "# Split data into train and test sets\n",
        "X = d1['GNIG_high'].values.reshape(-1, 1)\n",
        "y = d1['pmm'].values\n",
        "X_train, X_test, y_train, y_test = train_test_split(X, y, test_size=0.2, random_state=42)\n",
        "\n",
        "# Linear Regression\n",
        "linreg = LinearRegression()\n",
        "linreg.fit(X_train, y_train)\n",
        "y_pred_linreg = linreg.predict(X_test)\n",
        "print(\"Linear Regression:\")\n",
        "print(f\"R-squared: {r2_score(y_test, y_pred_linreg):.2f}\")\n",
        "print(f\"MSE: {mean_squared_error(y_test, y_pred_linreg):.2f}\")\n",
        "print(f\"MAE: {mean_absolute_error(y_test, y_pred_linreg):.2f}\")\n",
        "\n",
        "# Ridge Regression\n",
        "ridge = Ridge(alpha=0.1)\n",
        "ridge.fit(X_train, y_train)\n",
        "y_pred_ridge = ridge.predict(X_test)\n",
        "print(\"\\nRidge Regression:\")\n",
        "print(f\"R-squared: {r2_score(y_test, y_pred_ridge):.2f}\")\n",
        "print(f\"MSE: {mean_squared_error(y_test, y_pred_ridge):.2f}\")\n",
        "print(f\"MAE: {mean_absolute_error(y_test, y_pred_ridge):.2f}\")\n",
        "\n",
        "# Lasso Regression\n",
        "lasso = Lasso(alpha=0.1)\n",
        "lasso.fit(X_train, y_train)\n",
        "y_pred_lasso = lasso.predict(X_test)\n",
        "print(\"\\nLasso Regression:\")\n",
        "print(f\"R-squared: {r2_score(y_test, y_pred_lasso):.2f}\")\n",
        "print(f\"MSE: {mean_squared_error(y_test, y_pred_lasso):.2f}\")\n",
        "print(f\"MAE: {mean_absolute_error(y_test, y_pred_lasso):.2f}\")"
      ],
      "metadata": {
        "colab": {
          "base_uri": "https://localhost:8080/"
        },
        "id": "Hq2_ZLaPFHPB",
        "outputId": "bde0f8af-79d2-4439-e7cb-78f104bdd768"
      },
      "execution_count": 37,
      "outputs": [
        {
          "output_type": "stream",
          "name": "stdout",
          "text": [
            "Linear Regression:\n",
            "R-squared: -0.11\n",
            "MSE: 22723.76\n",
            "MAE: 106.21\n",
            "\n",
            "Ridge Regression:\n",
            "R-squared: -0.11\n",
            "MSE: 22730.68\n",
            "MAE: 106.15\n",
            "\n",
            "Lasso Regression:\n",
            "R-squared: -0.11\n",
            "MSE: 22733.79\n",
            "MAE: 106.12\n"
          ]
        }
      ]
    },
    {
      "cell_type": "code",
      "source": [
        "import pandas as pd\n",
        "from sklearn.linear_model import LinearRegression\n",
        "import numpy as np\n",
        "\n",
        "# Load data\n",
        "d1 = breast_df[breast_df['PI'] == 1]\n",
        "d1 = d1[['pmm', 'GNIG']].dropna()\n",
        "\n",
        "# Encode GNIG as a binary variable\n",
        "d1['GNIG_high'] = d1['GNIG'].apply(lambda x: 1 if x == 'high' else 0)\n",
        "\n",
        "# Split data into predictor and target variables\n",
        "X = d1['GNIG_high'].values.reshape(-1, 1)\n",
        "y = np.log(d1['pmm'].values)  # Apply logarithmic transformation\n",
        "\n",
        "# Linear Regression\n",
        "linreg = LinearRegression()\n",
        "linreg.fit(X, y)\n",
        "print(\"Linear Regression with Log Transformation:\")\n",
        "print(f\"Coefficients: {linreg.coef_}\")\n",
        "print(f\"Intercept: {linreg.intercept_}\")"
      ],
      "metadata": {
        "colab": {
          "base_uri": "https://localhost:8080/"
        },
        "id": "O4KgPBVOIe_H",
        "outputId": "03457cc8-6e0a-4c25-ef06-c399d2b2952b"
      },
      "execution_count": 12,
      "outputs": [
        {
          "output_type": "stream",
          "name": "stdout",
          "text": [
            "Linear Regression with Log Transformation:\n",
            "Coefficients: [-0.75650387]\n",
            "Intercept: 4.104732801895955\n"
          ]
        }
      ]
    },
    {
      "cell_type": "code",
      "source": [
        "from sklearn.model_selection import GridSearchCV\n",
        "from sklearn.model_selection import cross_val_score\n",
        "from sklearn.feature_selection import SelectFromModel\n",
        "from sklearn.ensemble import VotingRegressor\n",
        "\n",
        "#optimize the performance of the regression models\n",
        "\n",
        "breast_df['age'] = pd.to_numeric(breast_df['age'], errors='coerce')  # Convert to numeric, coerce errors to NaN\n",
        "breast_df['age_Squared'] = breast_df['age'] ** 2\n",
        "\n",
        "#Regularization Parameter Tuning\n",
        "# Define alpha values to search\n",
        "alphas = [0.001, 0.01, 0.1, 1, 10]\n",
        "\n",
        "# Create parameter grid\n",
        "param_grid = {'alpha': alphas}\n",
        "\n",
        "# Grid search for Ridge regression\n",
        "ridge_grid = GridSearchCV(Ridge(), param_grid, cv=5)\n",
        "ridge_grid.fit(X_train, y_train)\n",
        "\n",
        "# Best alpha\n",
        "best_alpha = ridge_grid.best_params_['alpha']\n",
        "\n",
        "# Retrain Ridge with best alpha\n",
        "ridge_optimized = Ridge(alpha=best_alpha)\n",
        "ridge_optimized.fit(X_train, y_train)\n",
        "\n",
        "# Perform k-fold cross-validation\n",
        "cv_scores = cross_val_score(ridge_optimized, X_train, y_train, cv=5)\n",
        "print(\"Cross-Validation Scores:\", cv_scores)\n",
        "\n",
        "# Use Lasso regression for feature selection\n",
        "lasso_select = SelectFromModel(Lasso(alpha=best_alpha))\n",
        "lasso_select.fit(X_train, y_train)\n",
        "\n",
        "\n",
        "# Get the indices of selected features\n",
        "selected_feature_indices = np.where(lasso_select.get_support())[0]\n",
        "\n",
        "# Use the indices to select the corresponding column names\n",
        "selected_features = breast_df.columns[selected_feature_indices]\n",
        "print(\"Selected Features:\", selected_features)\n",
        "\n",
        "# Create ensemble of Ridge and Lasso models\n",
        "ensemble = VotingRegressor([('ridge', ridge_optimized), ('lasso', lasso)])\n",
        "ensemble.fit(X_train, y_train)\n"
      ],
      "metadata": {
        "colab": {
          "base_uri": "https://localhost:8080/",
          "height": 386
        },
        "id": "-sfOyWvXjrfA",
        "outputId": "fec8bc87-89c4-4d0c-9550-ce6610be46b6"
      },
      "execution_count": 31,
      "outputs": [
        {
          "output_type": "stream",
          "name": "stdout",
          "text": [
            "Cross-Validation Scores: [ 0.00456207 -0.09823028  0.18353553  0.07196023  0.01320642]\n",
            "Selected Features: Index(['idi'], dtype='object')\n"
          ]
        },
        {
          "output_type": "stream",
          "name": "stderr",
          "text": [
            "<ipython-input-31-a81160c76fbe>:9: SettingWithCopyWarning: \n",
            "A value is trying to be set on a copy of a slice from a DataFrame.\n",
            "Try using .loc[row_indexer,col_indexer] = value instead\n",
            "\n",
            "See the caveats in the documentation: https://pandas.pydata.org/pandas-docs/stable/user_guide/indexing.html#returning-a-view-versus-a-copy\n",
            "  breast_df['age'] = pd.to_numeric(breast_df['age'], errors='coerce')  # Convert to numeric, coerce errors to NaN\n",
            "<ipython-input-31-a81160c76fbe>:10: SettingWithCopyWarning: \n",
            "A value is trying to be set on a copy of a slice from a DataFrame.\n",
            "Try using .loc[row_indexer,col_indexer] = value instead\n",
            "\n",
            "See the caveats in the documentation: https://pandas.pydata.org/pandas-docs/stable/user_guide/indexing.html#returning-a-view-versus-a-copy\n",
            "  breast_df['age_Squared'] = breast_df['age'] ** 2\n"
          ]
        },
        {
          "output_type": "execute_result",
          "data": {
            "text/plain": [
              "VotingRegressor(estimators=[('ridge', Ridge(alpha=10)),\n",
              "                            ('lasso', Lasso(alpha=0.1))])"
            ],
            "text/html": [
              "<style>#sk-container-id-2 {color: black;background-color: white;}#sk-container-id-2 pre{padding: 0;}#sk-container-id-2 div.sk-toggleable {background-color: white;}#sk-container-id-2 label.sk-toggleable__label {cursor: pointer;display: block;width: 100%;margin-bottom: 0;padding: 0.3em;box-sizing: border-box;text-align: center;}#sk-container-id-2 label.sk-toggleable__label-arrow:before {content: \"▸\";float: left;margin-right: 0.25em;color: #696969;}#sk-container-id-2 label.sk-toggleable__label-arrow:hover:before {color: black;}#sk-container-id-2 div.sk-estimator:hover label.sk-toggleable__label-arrow:before {color: black;}#sk-container-id-2 div.sk-toggleable__content {max-height: 0;max-width: 0;overflow: hidden;text-align: left;background-color: #f0f8ff;}#sk-container-id-2 div.sk-toggleable__content pre {margin: 0.2em;color: black;border-radius: 0.25em;background-color: #f0f8ff;}#sk-container-id-2 input.sk-toggleable__control:checked~div.sk-toggleable__content {max-height: 200px;max-width: 100%;overflow: auto;}#sk-container-id-2 input.sk-toggleable__control:checked~label.sk-toggleable__label-arrow:before {content: \"▾\";}#sk-container-id-2 div.sk-estimator input.sk-toggleable__control:checked~label.sk-toggleable__label {background-color: #d4ebff;}#sk-container-id-2 div.sk-label input.sk-toggleable__control:checked~label.sk-toggleable__label {background-color: #d4ebff;}#sk-container-id-2 input.sk-hidden--visually {border: 0;clip: rect(1px 1px 1px 1px);clip: rect(1px, 1px, 1px, 1px);height: 1px;margin: -1px;overflow: hidden;padding: 0;position: absolute;width: 1px;}#sk-container-id-2 div.sk-estimator {font-family: monospace;background-color: #f0f8ff;border: 1px dotted black;border-radius: 0.25em;box-sizing: border-box;margin-bottom: 0.5em;}#sk-container-id-2 div.sk-estimator:hover {background-color: #d4ebff;}#sk-container-id-2 div.sk-parallel-item::after {content: \"\";width: 100%;border-bottom: 1px solid gray;flex-grow: 1;}#sk-container-id-2 div.sk-label:hover label.sk-toggleable__label {background-color: #d4ebff;}#sk-container-id-2 div.sk-serial::before {content: \"\";position: absolute;border-left: 1px solid gray;box-sizing: border-box;top: 0;bottom: 0;left: 50%;z-index: 0;}#sk-container-id-2 div.sk-serial {display: flex;flex-direction: column;align-items: center;background-color: white;padding-right: 0.2em;padding-left: 0.2em;position: relative;}#sk-container-id-2 div.sk-item {position: relative;z-index: 1;}#sk-container-id-2 div.sk-parallel {display: flex;align-items: stretch;justify-content: center;background-color: white;position: relative;}#sk-container-id-2 div.sk-item::before, #sk-container-id-2 div.sk-parallel-item::before {content: \"\";position: absolute;border-left: 1px solid gray;box-sizing: border-box;top: 0;bottom: 0;left: 50%;z-index: -1;}#sk-container-id-2 div.sk-parallel-item {display: flex;flex-direction: column;z-index: 1;position: relative;background-color: white;}#sk-container-id-2 div.sk-parallel-item:first-child::after {align-self: flex-end;width: 50%;}#sk-container-id-2 div.sk-parallel-item:last-child::after {align-self: flex-start;width: 50%;}#sk-container-id-2 div.sk-parallel-item:only-child::after {width: 0;}#sk-container-id-2 div.sk-dashed-wrapped {border: 1px dashed gray;margin: 0 0.4em 0.5em 0.4em;box-sizing: border-box;padding-bottom: 0.4em;background-color: white;}#sk-container-id-2 div.sk-label label {font-family: monospace;font-weight: bold;display: inline-block;line-height: 1.2em;}#sk-container-id-2 div.sk-label-container {text-align: center;}#sk-container-id-2 div.sk-container {/* jupyter's `normalize.less` sets `[hidden] { display: none; }` but bootstrap.min.css set `[hidden] { display: none !important; }` so we also need the `!important` here to be able to override the default hidden behavior on the sphinx rendered scikit-learn.org. See: https://github.com/scikit-learn/scikit-learn/issues/21755 */display: inline-block !important;position: relative;}#sk-container-id-2 div.sk-text-repr-fallback {display: none;}</style><div id=\"sk-container-id-2\" class=\"sk-top-container\"><div class=\"sk-text-repr-fallback\"><pre>VotingRegressor(estimators=[(&#x27;ridge&#x27;, Ridge(alpha=10)),\n",
              "                            (&#x27;lasso&#x27;, Lasso(alpha=0.1))])</pre><b>In a Jupyter environment, please rerun this cell to show the HTML representation or trust the notebook. <br />On GitHub, the HTML representation is unable to render, please try loading this page with nbviewer.org.</b></div><div class=\"sk-container\" hidden><div class=\"sk-item sk-dashed-wrapped\"><div class=\"sk-label-container\"><div class=\"sk-label sk-toggleable\"><input class=\"sk-toggleable__control sk-hidden--visually\" id=\"sk-estimator-id-4\" type=\"checkbox\" ><label for=\"sk-estimator-id-4\" class=\"sk-toggleable__label sk-toggleable__label-arrow\">VotingRegressor</label><div class=\"sk-toggleable__content\"><pre>VotingRegressor(estimators=[(&#x27;ridge&#x27;, Ridge(alpha=10)),\n",
              "                            (&#x27;lasso&#x27;, Lasso(alpha=0.1))])</pre></div></div></div><div class=\"sk-parallel\"><div class=\"sk-parallel-item\"><div class=\"sk-item\"><div class=\"sk-label-container\"><div class=\"sk-label sk-toggleable\"><label>ridge</label></div></div><div class=\"sk-serial\"><div class=\"sk-item\"><div class=\"sk-estimator sk-toggleable\"><input class=\"sk-toggleable__control sk-hidden--visually\" id=\"sk-estimator-id-5\" type=\"checkbox\" ><label for=\"sk-estimator-id-5\" class=\"sk-toggleable__label sk-toggleable__label-arrow\">Ridge</label><div class=\"sk-toggleable__content\"><pre>Ridge(alpha=10)</pre></div></div></div></div></div></div><div class=\"sk-parallel-item\"><div class=\"sk-item\"><div class=\"sk-label-container\"><div class=\"sk-label sk-toggleable\"><label>lasso</label></div></div><div class=\"sk-serial\"><div class=\"sk-item\"><div class=\"sk-estimator sk-toggleable\"><input class=\"sk-toggleable__control sk-hidden--visually\" id=\"sk-estimator-id-6\" type=\"checkbox\" ><label for=\"sk-estimator-id-6\" class=\"sk-toggleable__label sk-toggleable__label-arrow\">Lasso</label><div class=\"sk-toggleable__content\"><pre>Lasso(alpha=0.1)</pre></div></div></div></div></div></div></div></div></div></div>"
            ]
          },
          "metadata": {},
          "execution_count": 31
        }
      ]
    }
  ]
}