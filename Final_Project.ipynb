{
  "nbformat": 4,
  "nbformat_minor": 0,
  "metadata": {
    "colab": {
      "provenance": [],
      "authorship_tag": "ABX9TyN1mq7Tuz4N18ldRKQy/49T",
      "include_colab_link": true
    },
    "kernelspec": {
      "name": "python3",
      "display_name": "Python 3"
    },
    "language_info": {
      "name": "python"
    }
  },
  "cells": [
    {
      "cell_type": "markdown",
      "metadata": {
        "id": "view-in-github",
        "colab_type": "text"
      },
      "source": [
        "<a href=\"https://colab.research.google.com/github/Riccogao/datasci_223/blob/main/Final_Project.ipynb\" target=\"_parent\"><img src=\"https://colab.research.google.com/assets/colab-badge.svg\" alt=\"Open In Colab\"/></a>"
      ]
    },
    {
      "cell_type": "code",
      "execution_count": 1,
      "metadata": {
        "colab": {
          "base_uri": "https://localhost:8080/"
        },
        "id": "mGTjtNPUZoEB",
        "outputId": "5b55429d-5fa4-42a1-e4d4-46434c4bca17"
      },
      "outputs": [
        {
          "output_type": "stream",
          "name": "stdout",
          "text": [
            "Mounted at /content/drive\n"
          ]
        }
      ],
      "source": [
        "from google.colab import drive\n",
        "drive.mount('/content/drive')\n"
      ]
    },
    {
      "cell_type": "code",
      "source": [
        "import pandas as pd\n",
        "\n",
        "# Read the excel file into a pandas DataFrame\n",
        "df = pd.read_excel('/content/drive/My Drive/data1.xlsx')\n",
        "\n",
        "# Display the first few rows of the DataFrame\n",
        "print(df)\n",
        "\n"
      ],
      "metadata": {
        "colab": {
          "base_uri": "https://localhost:8080/"
        },
        "id": "q-9UurSoaGS6",
        "outputId": "ca772ebf-9beb-4289-9507-fe7a37487110"
      },
      "execution_count": 3,
      "outputs": [
        {
          "output_type": "stream",
          "name": "stdout",
          "text": [
            "     idi     ID      first_author  \\\n",
            "0      1   1851     Rangel-Méndez   \n",
            "1      2   1868       Abu-Helalah   \n",
            "2      3   1872             Adams   \n",
            "3      4   1872             Adams   \n",
            "4      5   1872             Adams   \n",
            "..   ...    ...               ...   \n",
            "867  872   3824     Unger-Saldana   \n",
            "868  873   3824     Unger-Saldana   \n",
            "869  874   4313  Zarcos-Pedrinaci   \n",
            "870  875   4313  Zarcos-Pedrinaci   \n",
            "871  876  12371           Mansour   \n",
            "\n",
            "                                                group  data_start data_finish  \\\n",
            "0                                                  na        2010        2012   \n",
            "1                                                  na        2012        2014   \n",
            "2    specific site and American Indican-Alaska native        2001        2007   \n",
            "3                specific cite and non-hispanic white        2001        2007   \n",
            "4    specific site and American Indican-Alaska native        2001        2007   \n",
            "..                                                ...         ...         ...   \n",
            "867                                     40 or younger        2016        2017   \n",
            "868                                     older than 40        2016        2017   \n",
            "869                                            colon         2010        2012   \n",
            "870                                            rectum        2010        2012   \n",
            "871                                                na        2015        2016   \n",
            "\n",
            "     country country_additional                site_general site_specific  \\\n",
            "0     Mexico                NaN                      breast        breast   \n",
            "1     Jordan                NaN                      breast        breast   \n",
            "2        USA                NaN                      breast        breast   \n",
            "3        USA                NaN                      breast        breast   \n",
            "4        USA                NaN  digestive/gastrointestinal    colorectal   \n",
            "..       ...                ...                         ...           ...   \n",
            "867   Mexico                NaN                      breast        breast   \n",
            "868   Mexico                NaN                      breast        breast   \n",
            "869    Spain                NaN  digestive/gastrointestinal         colon   \n",
            "870    Spain                NaN  digestive/gastrointestinal        rectal   \n",
            "871  Algeria                NaN                      breast        breast   \n",
            "\n",
            "     ...   pmm           GNI   GNIG    HDI ICP_overall  ICP_pp  \\\n",
            "0    ...  30.0  upper middle  lower  0.754        63.1    73.2   \n",
            "1    ...  30.0  lower middle  lower  0.731         NaN     NaN   \n",
            "2    ...   NaN          high   high  0.900        84.0    88.0   \n",
            "3    ...   NaN          high   high  0.900        84.0    88.0   \n",
            "4    ...   NaN          high   high  0.900        84.0    88.0   \n",
            "..   ...   ...           ...    ...    ...         ...     ...   \n",
            "867  ...   NaN  upper-middle  lower  0.770        63.1    73.2   \n",
            "868  ...   NaN  upper-middle  lower  0.770        63.1    73.2   \n",
            "869  ...  22.0          high   high  0.877        84.0    89.7   \n",
            "870  ...  31.0          high   high  0.877        84.0    89.7   \n",
            "871  ...  15.0  upper-middle  lower  0.742         NaN     NaN   \n",
            "\n",
            "     ICP_cancerplan  ICP_care  risk_of_bias  lowquality  \n",
            "0              62.5      61.9        Medium          No  \n",
            "1               NaN       NaN          High         Yes  \n",
            "2             100.0      84.2           Low          No  \n",
            "3             100.0      84.2           Low          No  \n",
            "4             100.0      84.2           Low          No  \n",
            "..              ...       ...           ...         ...  \n",
            "867            62.5      61.9           Low          No  \n",
            "868            62.5      61.9           Low          No  \n",
            "869            70.8      89.2        Medium          No  \n",
            "870            70.8      89.2        Medium          No  \n",
            "871             NaN       NaN        Medium          No  \n",
            "\n",
            "[872 rows x 60 columns]\n"
          ]
        }
      ]
    }
  ]
}